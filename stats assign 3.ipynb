{
 "cells": [
  {
   "cell_type": "markdown",
   "id": "f1c336ec",
   "metadata": {},
   "source": [
    "1. Write the Gaussian Distribution empirical formula."
   ]
  },
  {
   "cell_type": "markdown",
   "id": "6d7ce5b3",
   "metadata": {},
   "source": [
    "In Gaussian Distribution, For a Normal Dataset the approx distribution will be like                                          \n",
    "    1st SD = 68%                                                                                                              \n",
    "    2nd SD = 95%                                                                                                              \n",
    "    3rd SD = 99.7%"
   ]
  },
  {
   "cell_type": "markdown",
   "id": "6d12df27",
   "metadata": {},
   "source": [
    "2. What is the Z-score, and why is it important?"
   ]
  },
  {
   "cell_type": "markdown",
   "id": "93e3901e",
   "metadata": {},
   "source": [
    "Z-score Generally is used to make standardization of GD wherein we can find how much data dispersed in a particular region which cannot be found in GD.                                                                                                  \n",
    "\n",
    "Z-score = (xi - population mean)/SD"
   ]
  },
  {
   "cell_type": "markdown",
   "id": "809beb7c",
   "metadata": {},
   "source": [
    "3. What is an outlier, exactly?"
   ]
  },
  {
   "cell_type": "markdown",
   "id": "265cde02",
   "metadata": {},
   "source": [
    "Outlier is the one which has a long distance from the other random samples of population.It is clearly visible using BoxPlot.                                   "
   ]
  },
  {
   "cell_type": "markdown",
   "id": "578a562b",
   "metadata": {},
   "source": [
    "4. What are our options for dealing with outliers in our dataset?"
   ]
  },
  {
   "cell_type": "markdown",
   "id": "357249e1",
   "metadata": {},
   "source": [
    "It can be handled with Median where we can remove outlier.                                                                \n",
    "It 5 Number theory it is posible to find the outlier and can be removed."
   ]
  },
  {
   "cell_type": "markdown",
   "id": "2a9a6b00",
   "metadata": {},
   "source": [
    "5. Write the sample and population variances equations and explain Bessel\n",
    "Correction."
   ]
  },
  {
   "cell_type": "markdown",
   "id": "3e44c6c4",
   "metadata": {},
   "source": [
    "Population variance is summation of (xi - Population mean)^2/N.                                                             \n",
    "Sample variance is summation of (xi - sample mean)^2/n-1.\n",
    "\n",
    "The Bessel correction describes that in Sample variance we use n-1 instead of n because Incase of skewed datas if we \n",
    "use n then it will be like biased estimation. Since to change it to Unbiased estimation we use (n-1)."
   ]
  },
  {
   "cell_type": "code",
   "execution_count": null,
   "id": "f5cc0c0e",
   "metadata": {},
   "outputs": [],
   "source": []
  }
 ],
 "metadata": {
  "kernelspec": {
   "display_name": "Python 3 (ipykernel)",
   "language": "python",
   "name": "python3"
  },
  "language_info": {
   "codemirror_mode": {
    "name": "ipython",
    "version": 3
   },
   "file_extension": ".py",
   "mimetype": "text/x-python",
   "name": "python",
   "nbconvert_exporter": "python",
   "pygments_lexer": "ipython3",
   "version": "3.9.7"
  }
 },
 "nbformat": 4,
 "nbformat_minor": 5
}
